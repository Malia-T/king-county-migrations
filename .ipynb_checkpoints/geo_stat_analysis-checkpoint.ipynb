{
 "cells": [
  {
   "cell_type": "code",
   "execution_count": 78,
   "id": "b2289bef",
   "metadata": {},
   "outputs": [],
   "source": [
    "import numpy as np\n",
    "import geopandas as gpd\n",
    "import pandas as pd\n",
    "from scipy import stats\n",
    "from scipy.stats import kruskal\n",
    "import statsmodels.api as sm\n",
    "from statsmodels.formula.api import ols\n",
    "\n",
    "import matplotlib.pyplot as plt\n",
    "import seaborn as sns"
   ]
  },
  {
   "cell_type": "markdown",
   "id": "68061a48",
   "metadata": {},
   "source": [
    "# Load in Data"
   ]
  },
  {
   "cell_type": "code",
   "execution_count": 2,
   "id": "11f21528",
   "metadata": {},
   "outputs": [],
   "source": [
    "housing = pd.read_csv('data/msa_med_housing_2011-2020.csv')"
   ]
  },
  {
   "cell_type": "code",
   "execution_count": 8,
   "id": "d3071342",
   "metadata": {},
   "outputs": [
    {
     "name": "stdout",
     "output_type": "stream",
     "text": [
      "<class 'pandas.core.frame.DataFrame'>\n",
      "RangeIndex: 907 entries, 0 to 906\n",
      "Data columns (total 3 columns):\n",
      " #   Column       Non-Null Count  Dtype \n",
      "---  ------       --------------  ----- \n",
      " 0   CBSAA        907 non-null    int64 \n",
      " 1   NAME_E.y     907 non-null    object\n",
      " 2   housing_chg  907 non-null    int64 \n",
      "dtypes: int64(2), object(1)\n",
      "memory usage: 21.4+ KB\n"
     ]
    }
   ],
   "source": [
    "housing.info()"
   ]
  },
  {
   "cell_type": "code",
   "execution_count": 3,
   "id": "1cbef4fd",
   "metadata": {},
   "outputs": [
    {
     "data": {
      "text/html": [
       "<div>\n",
       "<style scoped>\n",
       "    .dataframe tbody tr th:only-of-type {\n",
       "        vertical-align: middle;\n",
       "    }\n",
       "\n",
       "    .dataframe tbody tr th {\n",
       "        vertical-align: top;\n",
       "    }\n",
       "\n",
       "    .dataframe thead th {\n",
       "        text-align: right;\n",
       "    }\n",
       "</style>\n",
       "<table border=\"1\" class=\"dataframe\">\n",
       "  <thead>\n",
       "    <tr style=\"text-align: right;\">\n",
       "      <th></th>\n",
       "      <th>CBSAA</th>\n",
       "      <th>NAME_E.y</th>\n",
       "      <th>housing_chg</th>\n",
       "    </tr>\n",
       "  </thead>\n",
       "  <tbody>\n",
       "    <tr>\n",
       "      <th>0</th>\n",
       "      <td>10100</td>\n",
       "      <td>Aberdeen, SD Micro Area</td>\n",
       "      <td>26700</td>\n",
       "    </tr>\n",
       "    <tr>\n",
       "      <th>1</th>\n",
       "      <td>10140</td>\n",
       "      <td>Aberdeen, WA Micro Area</td>\n",
       "      <td>34300</td>\n",
       "    </tr>\n",
       "    <tr>\n",
       "      <th>2</th>\n",
       "      <td>10180</td>\n",
       "      <td>Abilene, TX Metro Area</td>\n",
       "      <td>30900</td>\n",
       "    </tr>\n",
       "    <tr>\n",
       "      <th>3</th>\n",
       "      <td>10220</td>\n",
       "      <td>Ada, OK Micro Area</td>\n",
       "      <td>26900</td>\n",
       "    </tr>\n",
       "    <tr>\n",
       "      <th>4</th>\n",
       "      <td>10300</td>\n",
       "      <td>Adrian, MI Micro Area</td>\n",
       "      <td>28100</td>\n",
       "    </tr>\n",
       "  </tbody>\n",
       "</table>\n",
       "</div>"
      ],
      "text/plain": [
       "   CBSAA                 NAME_E.y  housing_chg\n",
       "0  10100  Aberdeen, SD Micro Area        26700\n",
       "1  10140  Aberdeen, WA Micro Area        34300\n",
       "2  10180   Abilene, TX Metro Area        30900\n",
       "3  10220       Ada, OK Micro Area        26900\n",
       "4  10300    Adrian, MI Micro Area        28100"
      ]
     },
     "execution_count": 3,
     "metadata": {},
     "output_type": "execute_result"
    }
   ],
   "source": [
    "housing.head()"
   ]
  },
  {
   "cell_type": "code",
   "execution_count": 31,
   "id": "4de7f3eb",
   "metadata": {},
   "outputs": [],
   "source": [
    "flows = pd.read_csv('data/sea_mig_2020.csv')"
   ]
  },
  {
   "cell_type": "code",
   "execution_count": 32,
   "id": "d6b6542a",
   "metadata": {},
   "outputs": [
    {
     "name": "stdout",
     "output_type": "stream",
     "text": [
      "<class 'pandas.core.frame.DataFrame'>\n",
      "RangeIndex: 354 entries, 0 to 353\n",
      "Data columns (total 11 columns):\n",
      " #   Column      Non-Null Count  Dtype  \n",
      "---  ------      --------------  -----  \n",
      " 0   GEOID1      354 non-null    int64  \n",
      " 1   GEOID2      344 non-null    float64\n",
      " 2   FULL1_NAME  354 non-null    object \n",
      " 3   FULL2_NAME  354 non-null    object \n",
      " 4   variable    354 non-null    object \n",
      " 5   estimate    345 non-null    float64\n",
      " 6   moe         308 non-null    float64\n",
      " 7   centroid1   354 non-null    object \n",
      " 8   centroid2   354 non-null    object \n",
      " 9   j           354 non-null    object \n",
      " 10  k           354 non-null    object \n",
      "dtypes: float64(3), int64(1), object(7)\n",
      "memory usage: 30.6+ KB\n"
     ]
    }
   ],
   "source": [
    "flows.info()"
   ]
  },
  {
   "cell_type": "code",
   "execution_count": 33,
   "id": "38f48e6d",
   "metadata": {},
   "outputs": [],
   "source": [
    "# remove NAs\n",
    "flows = flows[flows['estimate'].notna()]"
   ]
  },
  {
   "cell_type": "code",
   "execution_count": 34,
   "id": "c4d6553d",
   "metadata": {},
   "outputs": [
    {
     "data": {
      "text/html": [
       "<div>\n",
       "<style scoped>\n",
       "    .dataframe tbody tr th:only-of-type {\n",
       "        vertical-align: middle;\n",
       "    }\n",
       "\n",
       "    .dataframe tbody tr th {\n",
       "        vertical-align: top;\n",
       "    }\n",
       "\n",
       "    .dataframe thead th {\n",
       "        text-align: right;\n",
       "    }\n",
       "</style>\n",
       "<table border=\"1\" class=\"dataframe\">\n",
       "  <thead>\n",
       "    <tr style=\"text-align: right;\">\n",
       "      <th></th>\n",
       "      <th>GEOID1</th>\n",
       "      <th>GEOID2</th>\n",
       "      <th>FULL1_NAME</th>\n",
       "      <th>FULL2_NAME</th>\n",
       "      <th>variable</th>\n",
       "      <th>estimate</th>\n",
       "      <th>moe</th>\n",
       "      <th>centroid1</th>\n",
       "      <th>centroid2</th>\n",
       "      <th>j</th>\n",
       "      <th>k</th>\n",
       "    </tr>\n",
       "  </thead>\n",
       "  <tbody>\n",
       "    <tr>\n",
       "      <th>0</th>\n",
       "      <td>42660</td>\n",
       "      <td>NaN</td>\n",
       "      <td>Seattle-Tacoma-Bellevue, WA Metro Area</td>\n",
       "      <td>Outside Metro Area within U.S. or Puerto Rico</td>\n",
       "      <td>MOVEDOUT</td>\n",
       "      <td>25243.0</td>\n",
       "      <td>1528.0</td>\n",
       "      <td>c(-121.881387433741</td>\n",
       "      <td>47.5574033466574)</td>\n",
       "      <td>c(NA</td>\n",
       "      <td>NA)</td>\n",
       "    </tr>\n",
       "    <tr>\n",
       "      <th>10</th>\n",
       "      <td>42660</td>\n",
       "      <td>10180.0</td>\n",
       "      <td>Seattle-Tacoma-Bellevue, WA Metro Area</td>\n",
       "      <td>Abilene, TX Metro Area</td>\n",
       "      <td>MOVEDOUT</td>\n",
       "      <td>48.0</td>\n",
       "      <td>34.0</td>\n",
       "      <td>c(-121.881387433741</td>\n",
       "      <td>c(-99.717678358008</td>\n",
       "      <td>c(-99.717678358008</td>\n",
       "      <td>32.4496900313019)</td>\n",
       "    </tr>\n",
       "    <tr>\n",
       "      <th>11</th>\n",
       "      <td>42660</td>\n",
       "      <td>10380.0</td>\n",
       "      <td>Seattle-Tacoma-Bellevue, WA Metro Area</td>\n",
       "      <td>Aguadilla-Isabela, PR Metro Area</td>\n",
       "      <td>MOVEDOUT</td>\n",
       "      <td>0.0</td>\n",
       "      <td>NaN</td>\n",
       "      <td>c(-121.881387433741</td>\n",
       "      <td>c(-67.0703611537066</td>\n",
       "      <td>c(-67.0703611537066</td>\n",
       "      <td>18.3797715984677)</td>\n",
       "    </tr>\n",
       "    <tr>\n",
       "      <th>12</th>\n",
       "      <td>42660</td>\n",
       "      <td>10420.0</td>\n",
       "      <td>Seattle-Tacoma-Bellevue, WA Metro Area</td>\n",
       "      <td>Akron, OH Metro Area</td>\n",
       "      <td>MOVEDOUT</td>\n",
       "      <td>49.0</td>\n",
       "      <td>45.0</td>\n",
       "      <td>c(-121.881387433741</td>\n",
       "      <td>c(-81.3495122130132</td>\n",
       "      <td>c(-81.3495122130132</td>\n",
       "      <td>41.1487250686295)</td>\n",
       "    </tr>\n",
       "    <tr>\n",
       "      <th>13</th>\n",
       "      <td>42660</td>\n",
       "      <td>10500.0</td>\n",
       "      <td>Seattle-Tacoma-Bellevue, WA Metro Area</td>\n",
       "      <td>Albany, GA Metro Area</td>\n",
       "      <td>MOVEDOUT</td>\n",
       "      <td>0.0</td>\n",
       "      <td>NaN</td>\n",
       "      <td>c(-121.881387433741</td>\n",
       "      <td>c(-84.1738860941887</td>\n",
       "      <td>c(-84.1738860941887</td>\n",
       "      <td>31.5895065709885)</td>\n",
       "    </tr>\n",
       "  </tbody>\n",
       "</table>\n",
       "</div>"
      ],
      "text/plain": [
       "    GEOID1   GEOID2                              FULL1_NAME  \\\n",
       "0    42660      NaN  Seattle-Tacoma-Bellevue, WA Metro Area   \n",
       "10   42660  10180.0  Seattle-Tacoma-Bellevue, WA Metro Area   \n",
       "11   42660  10380.0  Seattle-Tacoma-Bellevue, WA Metro Area   \n",
       "12   42660  10420.0  Seattle-Tacoma-Bellevue, WA Metro Area   \n",
       "13   42660  10500.0  Seattle-Tacoma-Bellevue, WA Metro Area   \n",
       "\n",
       "                                       FULL2_NAME  variable  estimate     moe  \\\n",
       "0   Outside Metro Area within U.S. or Puerto Rico  MOVEDOUT   25243.0  1528.0   \n",
       "10                         Abilene, TX Metro Area  MOVEDOUT      48.0    34.0   \n",
       "11               Aguadilla-Isabela, PR Metro Area  MOVEDOUT       0.0     NaN   \n",
       "12                           Akron, OH Metro Area  MOVEDOUT      49.0    45.0   \n",
       "13                          Albany, GA Metro Area  MOVEDOUT       0.0     NaN   \n",
       "\n",
       "              centroid1            centroid2                    j  \\\n",
       "0   c(-121.881387433741    47.5574033466574)                 c(NA   \n",
       "10  c(-121.881387433741   c(-99.717678358008   c(-99.717678358008   \n",
       "11  c(-121.881387433741  c(-67.0703611537066  c(-67.0703611537066   \n",
       "12  c(-121.881387433741  c(-81.3495122130132  c(-81.3495122130132   \n",
       "13  c(-121.881387433741  c(-84.1738860941887  c(-84.1738860941887   \n",
       "\n",
       "                     k  \n",
       "0                  NA)  \n",
       "10   32.4496900313019)  \n",
       "11   18.3797715984677)  \n",
       "12   41.1487250686295)  \n",
       "13   31.5895065709885)  "
      ]
     },
     "execution_count": 34,
     "metadata": {},
     "output_type": "execute_result"
    }
   ],
   "source": [
    "flows.head()"
   ]
  },
  {
   "cell_type": "code",
   "execution_count": 9,
   "id": "ff14fb77",
   "metadata": {},
   "outputs": [],
   "source": [
    "race = pd.read_csv('data/race_2010-2020.csv')"
   ]
  },
  {
   "cell_type": "code",
   "execution_count": 30,
   "id": "2ec13b06",
   "metadata": {},
   "outputs": [
    {
     "name": "stdout",
     "output_type": "stream",
     "text": [
      "<class 'pandas.core.frame.DataFrame'>\n",
      "RangeIndex: 942 entries, 0 to 941\n",
      "Data columns (total 9 columns):\n",
      " #   Column                 Non-Null Count  Dtype  \n",
      "---  ------                 --------------  -----  \n",
      " 0   GISJOIN                942 non-null    object \n",
      " 1   CBSA                   942 non-null    object \n",
      " 2   chg_white_2010_2020    942 non-null    float64\n",
      " 3   chg_black_2010_2020    942 non-null    float64\n",
      " 4   chg_aiak_2010_2020     942 non-null    float64\n",
      " 5   chg_asian_2010_2020    942 non-null    float64\n",
      " 6   chg_nhpi_2010_2020     942 non-null    float64\n",
      " 7   chg_other_2010_2020    942 non-null    float64\n",
      " 8   chg_twoplus_2010_2020  942 non-null    float64\n",
      "dtypes: float64(7), object(2)\n",
      "memory usage: 66.4+ KB\n"
     ]
    }
   ],
   "source": [
    "race.info()"
   ]
  },
  {
   "cell_type": "code",
   "execution_count": 21,
   "id": "fe37f41a",
   "metadata": {},
   "outputs": [
    {
     "data": {
      "text/html": [
       "<div>\n",
       "<style scoped>\n",
       "    .dataframe tbody tr th:only-of-type {\n",
       "        vertical-align: middle;\n",
       "    }\n",
       "\n",
       "    .dataframe tbody tr th {\n",
       "        vertical-align: top;\n",
       "    }\n",
       "\n",
       "    .dataframe thead th {\n",
       "        text-align: right;\n",
       "    }\n",
       "</style>\n",
       "<table border=\"1\" class=\"dataframe\">\n",
       "  <thead>\n",
       "    <tr style=\"text-align: right;\">\n",
       "      <th></th>\n",
       "      <th>GISJOIN</th>\n",
       "      <th>CBSA</th>\n",
       "      <th>chg_white_2010_2020</th>\n",
       "      <th>chg_black_2010_2020</th>\n",
       "      <th>chg_aiak_2010_2020</th>\n",
       "      <th>chg_asian_2010_2020</th>\n",
       "      <th>chg_nhpi_2010_2020</th>\n",
       "      <th>chg_other_2010_2020</th>\n",
       "      <th>chg_twoplus_2010_2020</th>\n",
       "    </tr>\n",
       "  </thead>\n",
       "  <tbody>\n",
       "    <tr>\n",
       "      <th>0</th>\n",
       "      <td>G10020</td>\n",
       "      <td>Abbeville, LA Micro Area</td>\n",
       "      <td>-2444.97</td>\n",
       "      <td>-355.0</td>\n",
       "      <td>-14.00</td>\n",
       "      <td>103.00</td>\n",
       "      <td>8.0</td>\n",
       "      <td>366.00</td>\n",
       "      <td>1697.00</td>\n",
       "    </tr>\n",
       "    <tr>\n",
       "      <th>1</th>\n",
       "      <td>G10100</td>\n",
       "      <td>Aberdeen, SD Micro Area</td>\n",
       "      <td>-1140.00</td>\n",
       "      <td>379.0</td>\n",
       "      <td>114.00</td>\n",
       "      <td>585.00</td>\n",
       "      <td>3.0</td>\n",
       "      <td>556.00</td>\n",
       "      <td>1188.00</td>\n",
       "    </tr>\n",
       "    <tr>\n",
       "      <th>2</th>\n",
       "      <td>G10140</td>\n",
       "      <td>Aberdeen, WA Micro Area</td>\n",
       "      <td>-2784.95</td>\n",
       "      <td>223.0</td>\n",
       "      <td>553.03</td>\n",
       "      <td>17.96</td>\n",
       "      <td>-48.0</td>\n",
       "      <td>849.97</td>\n",
       "      <td>4017.10</td>\n",
       "    </tr>\n",
       "    <tr>\n",
       "      <th>3</th>\n",
       "      <td>G10180</td>\n",
       "      <td>Abilene, TX Metro Area</td>\n",
       "      <td>-7227.00</td>\n",
       "      <td>1744.0</td>\n",
       "      <td>378.00</td>\n",
       "      <td>882.00</td>\n",
       "      <td>71.0</td>\n",
       "      <td>720.00</td>\n",
       "      <td>14759.00</td>\n",
       "    </tr>\n",
       "    <tr>\n",
       "      <th>4</th>\n",
       "      <td>G10220</td>\n",
       "      <td>Ada, OK Micro Area</td>\n",
       "      <td>-3415.96</td>\n",
       "      <td>-18.0</td>\n",
       "      <td>659.00</td>\n",
       "      <td>129.00</td>\n",
       "      <td>-4.0</td>\n",
       "      <td>349.00</td>\n",
       "      <td>2874.02</td>\n",
       "    </tr>\n",
       "    <tr>\n",
       "      <th>5</th>\n",
       "      <td>G10300</td>\n",
       "      <td>Adrian, MI Micro Area</td>\n",
       "      <td>-5625.00</td>\n",
       "      <td>75.0</td>\n",
       "      <td>29.00</td>\n",
       "      <td>-22.00</td>\n",
       "      <td>-9.0</td>\n",
       "      <td>257.00</td>\n",
       "      <td>4826.00</td>\n",
       "    </tr>\n",
       "    <tr>\n",
       "      <th>6</th>\n",
       "      <td>G10420</td>\n",
       "      <td>Akron, OH Metro Area</td>\n",
       "      <td>-44830.06</td>\n",
       "      <td>2956.0</td>\n",
       "      <td>16.00</td>\n",
       "      <td>11856.00</td>\n",
       "      <td>33.0</td>\n",
       "      <td>3644.00</td>\n",
       "      <td>25339.00</td>\n",
       "    </tr>\n",
       "    <tr>\n",
       "      <th>7</th>\n",
       "      <td>G10460</td>\n",
       "      <td>Alamogordo, NM Micro Area</td>\n",
       "      <td>-8187.00</td>\n",
       "      <td>411.0</td>\n",
       "      <td>710.00</td>\n",
       "      <td>307.00</td>\n",
       "      <td>30.0</td>\n",
       "      <td>1019.00</td>\n",
       "      <td>9750.00</td>\n",
       "    </tr>\n",
       "    <tr>\n",
       "      <th>8</th>\n",
       "      <td>G10500</td>\n",
       "      <td>Albany, GA Metro Area</td>\n",
       "      <td>-6800.00</td>\n",
       "      <td>-2698.0</td>\n",
       "      <td>-50.00</td>\n",
       "      <td>214.00</td>\n",
       "      <td>-93.0</td>\n",
       "      <td>727.00</td>\n",
       "      <td>3190.00</td>\n",
       "    </tr>\n",
       "    <tr>\n",
       "      <th>9</th>\n",
       "      <td>G10540</td>\n",
       "      <td>Albany-Lebanon, OR Micro Area</td>\n",
       "      <td>2030.67</td>\n",
       "      <td>147.0</td>\n",
       "      <td>239.04</td>\n",
       "      <td>366.00</td>\n",
       "      <td>133.0</td>\n",
       "      <td>828.01</td>\n",
       "      <td>8194.08</td>\n",
       "    </tr>\n",
       "  </tbody>\n",
       "</table>\n",
       "</div>"
      ],
      "text/plain": [
       "  GISJOIN                           CBSA  chg_white_2010_2020  \\\n",
       "0  G10020       Abbeville, LA Micro Area             -2444.97   \n",
       "1  G10100        Aberdeen, SD Micro Area             -1140.00   \n",
       "2  G10140        Aberdeen, WA Micro Area             -2784.95   \n",
       "3  G10180         Abilene, TX Metro Area             -7227.00   \n",
       "4  G10220             Ada, OK Micro Area             -3415.96   \n",
       "5  G10300          Adrian, MI Micro Area             -5625.00   \n",
       "6  G10420           Akron, OH Metro Area            -44830.06   \n",
       "7  G10460      Alamogordo, NM Micro Area             -8187.00   \n",
       "8  G10500          Albany, GA Metro Area             -6800.00   \n",
       "9  G10540  Albany-Lebanon, OR Micro Area              2030.67   \n",
       "\n",
       "   chg_black_2010_2020  chg_aiak_2010_2020  chg_asian_2010_2020  \\\n",
       "0               -355.0              -14.00               103.00   \n",
       "1                379.0              114.00               585.00   \n",
       "2                223.0              553.03                17.96   \n",
       "3               1744.0              378.00               882.00   \n",
       "4                -18.0              659.00               129.00   \n",
       "5                 75.0               29.00               -22.00   \n",
       "6               2956.0               16.00             11856.00   \n",
       "7                411.0              710.00               307.00   \n",
       "8              -2698.0              -50.00               214.00   \n",
       "9                147.0              239.04               366.00   \n",
       "\n",
       "   chg_nhpi_2010_2020  chg_other_2010_2020  chg_twoplus_2010_2020  \n",
       "0                 8.0               366.00                1697.00  \n",
       "1                 3.0               556.00                1188.00  \n",
       "2               -48.0               849.97                4017.10  \n",
       "3                71.0               720.00               14759.00  \n",
       "4                -4.0               349.00                2874.02  \n",
       "5                -9.0               257.00                4826.00  \n",
       "6                33.0              3644.00               25339.00  \n",
       "7                30.0              1019.00                9750.00  \n",
       "8               -93.0               727.00                3190.00  \n",
       "9               133.0               828.01                8194.08  "
      ]
     },
     "execution_count": 21,
     "metadata": {},
     "output_type": "execute_result"
    }
   ],
   "source": [
    "race.head()"
   ]
  },
  {
   "cell_type": "code",
   "execution_count": 46,
   "id": "34ceae10",
   "metadata": {},
   "outputs": [],
   "source": [
    "race_pcts = pd.read_csv('data/race_2010-2020_pcts.csv')"
   ]
  },
  {
   "cell_type": "code",
   "execution_count": 47,
   "id": "fad6ad01",
   "metadata": {},
   "outputs": [
    {
     "data": {
      "text/html": [
       "<div>\n",
       "<style scoped>\n",
       "    .dataframe tbody tr th:only-of-type {\n",
       "        vertical-align: middle;\n",
       "    }\n",
       "\n",
       "    .dataframe tbody tr th {\n",
       "        vertical-align: top;\n",
       "    }\n",
       "\n",
       "    .dataframe thead th {\n",
       "        text-align: right;\n",
       "    }\n",
       "</style>\n",
       "<table border=\"1\" class=\"dataframe\">\n",
       "  <thead>\n",
       "    <tr style=\"text-align: right;\">\n",
       "      <th></th>\n",
       "      <th>GISJOIN</th>\n",
       "      <th>CBSA</th>\n",
       "      <th>chg_white_2010_2020</th>\n",
       "      <th>chg_black_2010_2020</th>\n",
       "      <th>chg_aiak_2010_2020</th>\n",
       "      <th>chg_asian_2010_2020</th>\n",
       "      <th>chg_nhpi_2010_2020</th>\n",
       "      <th>chg_other_2010_2020</th>\n",
       "      <th>chg_twoplus_2010_2020</th>\n",
       "    </tr>\n",
       "  </thead>\n",
       "  <tbody>\n",
       "    <tr>\n",
       "      <th>0</th>\n",
       "      <td>G10180</td>\n",
       "      <td>Abilene, TX Metro Area</td>\n",
       "      <td>-5.495483</td>\n",
       "      <td>14.313854</td>\n",
       "      <td>34.870849</td>\n",
       "      <td>39.927569</td>\n",
       "      <td>53.787879</td>\n",
       "      <td>5.426590</td>\n",
       "      <td>303.246353</td>\n",
       "    </tr>\n",
       "    <tr>\n",
       "      <th>1</th>\n",
       "      <td>G10420</td>\n",
       "      <td>Akron, OH Metro Area</td>\n",
       "      <td>-7.657721</td>\n",
       "      <td>3.485561</td>\n",
       "      <td>1.220442</td>\n",
       "      <td>83.551797</td>\n",
       "      <td>19.075145</td>\n",
       "      <td>120.862355</td>\n",
       "      <td>177.431552</td>\n",
       "    </tr>\n",
       "    <tr>\n",
       "      <th>2</th>\n",
       "      <td>G10500</td>\n",
       "      <td>Albany, GA Metro Area</td>\n",
       "      <td>-9.705551</td>\n",
       "      <td>-3.289081</td>\n",
       "      <td>-13.586957</td>\n",
       "      <td>14.449696</td>\n",
       "      <td>-62.837838</td>\n",
       "      <td>53.931751</td>\n",
       "      <td>170.497060</td>\n",
       "    </tr>\n",
       "    <tr>\n",
       "      <th>3</th>\n",
       "      <td>G10580</td>\n",
       "      <td>Albany-Schenectady-Troy, NY Metro Area</td>\n",
       "      <td>-7.574310</td>\n",
       "      <td>15.425840</td>\n",
       "      <td>41.505792</td>\n",
       "      <td>70.300088</td>\n",
       "      <td>47.735192</td>\n",
       "      <td>76.205958</td>\n",
       "      <td>205.556075</td>\n",
       "    </tr>\n",
       "    <tr>\n",
       "      <th>4</th>\n",
       "      <td>G10740</td>\n",
       "      <td>Albuquerque, NM Metro Area</td>\n",
       "      <td>-21.650195</td>\n",
       "      <td>8.571308</td>\n",
       "      <td>15.703945</td>\n",
       "      <td>29.982147</td>\n",
       "      <td>21.682848</td>\n",
       "      <td>-2.588502</td>\n",
       "      <td>394.059763</td>\n",
       "    </tr>\n",
       "  </tbody>\n",
       "</table>\n",
       "</div>"
      ],
      "text/plain": [
       "  GISJOIN                                    CBSA  chg_white_2010_2020  \\\n",
       "0  G10180                  Abilene, TX Metro Area            -5.495483   \n",
       "1  G10420                    Akron, OH Metro Area            -7.657721   \n",
       "2  G10500                   Albany, GA Metro Area            -9.705551   \n",
       "3  G10580  Albany-Schenectady-Troy, NY Metro Area            -7.574310   \n",
       "4  G10740              Albuquerque, NM Metro Area           -21.650195   \n",
       "\n",
       "   chg_black_2010_2020  chg_aiak_2010_2020  chg_asian_2010_2020  \\\n",
       "0            14.313854           34.870849            39.927569   \n",
       "1             3.485561            1.220442            83.551797   \n",
       "2            -3.289081          -13.586957            14.449696   \n",
       "3            15.425840           41.505792            70.300088   \n",
       "4             8.571308           15.703945            29.982147   \n",
       "\n",
       "   chg_nhpi_2010_2020  chg_other_2010_2020  chg_twoplus_2010_2020  \n",
       "0           53.787879             5.426590             303.246353  \n",
       "1           19.075145           120.862355             177.431552  \n",
       "2          -62.837838            53.931751             170.497060  \n",
       "3           47.735192            76.205958             205.556075  \n",
       "4           21.682848            -2.588502             394.059763  "
      ]
     },
     "execution_count": 47,
     "metadata": {},
     "output_type": "execute_result"
    }
   ],
   "source": [
    "race_pcts.head()"
   ]
  },
  {
   "cell_type": "markdown",
   "id": "89a5b9d4",
   "metadata": {},
   "source": [
    "# Basic Stats"
   ]
  },
  {
   "cell_type": "code",
   "execution_count": 37,
   "id": "a3a57bed",
   "metadata": {},
   "outputs": [
    {
     "data": {
      "text/plain": [
       "DescribeResult(nobs=345, minmax=(0.0, 25243.0), mean=456.71014492753625, variance=2753845.8343444555, skewness=10.665841656628476, kurtosis=145.59969358746895)"
      ]
     },
     "execution_count": 37,
     "metadata": {},
     "output_type": "execute_result"
    }
   ],
   "source": [
    "stats.describe(np.array(flows['estimate']))"
   ]
  },
  {
   "cell_type": "code",
   "execution_count": null,
   "id": "f8bec1b1",
   "metadata": {},
   "outputs": [],
   "source": [
    "# t test for white and Black populations\n",
    "stats.ttest_ind()"
   ]
  },
  {
   "cell_type": "code",
   "execution_count": 59,
   "id": "c1dbbce6",
   "metadata": {},
   "outputs": [],
   "source": [
    "seattle = race_pcts[race_pcts['CBSA'] == 'Seattle-Tacoma-Bellevue, WA Metro Area'].reset_index()"
   ]
  },
  {
   "cell_type": "code",
   "execution_count": 60,
   "id": "2bfce364",
   "metadata": {},
   "outputs": [
    {
     "data": {
      "text/html": [
       "<div>\n",
       "<style scoped>\n",
       "    .dataframe tbody tr th:only-of-type {\n",
       "        vertical-align: middle;\n",
       "    }\n",
       "\n",
       "    .dataframe tbody tr th {\n",
       "        vertical-align: top;\n",
       "    }\n",
       "\n",
       "    .dataframe thead th {\n",
       "        text-align: right;\n",
       "    }\n",
       "</style>\n",
       "<table border=\"1\" class=\"dataframe\">\n",
       "  <thead>\n",
       "    <tr style=\"text-align: right;\">\n",
       "      <th></th>\n",
       "      <th>index</th>\n",
       "      <th>GISJOIN</th>\n",
       "      <th>CBSA</th>\n",
       "      <th>chg_white_2010_2020</th>\n",
       "      <th>chg_black_2010_2020</th>\n",
       "      <th>chg_aiak_2010_2020</th>\n",
       "      <th>chg_asian_2010_2020</th>\n",
       "      <th>chg_nhpi_2010_2020</th>\n",
       "      <th>chg_other_2010_2020</th>\n",
       "      <th>chg_twoplus_2010_2020</th>\n",
       "    </tr>\n",
       "  </thead>\n",
       "  <tbody>\n",
       "    <tr>\n",
       "      <th>0</th>\n",
       "      <td>310</td>\n",
       "      <td>G42660</td>\n",
       "      <td>Seattle-Tacoma-Bellevue, WA Metro Area</td>\n",
       "      <td>-2.405787</td>\n",
       "      <td>28.546552</td>\n",
       "      <td>15.850403</td>\n",
       "      <td>57.114571</td>\n",
       "      <td>55.560282</td>\n",
       "      <td>61.212283</td>\n",
       "      <td>140.050346</td>\n",
       "    </tr>\n",
       "  </tbody>\n",
       "</table>\n",
       "</div>"
      ],
      "text/plain": [
       "   index GISJOIN                                    CBSA  chg_white_2010_2020  \\\n",
       "0    310  G42660  Seattle-Tacoma-Bellevue, WA Metro Area            -2.405787   \n",
       "\n",
       "   chg_black_2010_2020  chg_aiak_2010_2020  chg_asian_2010_2020  \\\n",
       "0            28.546552           15.850403            57.114571   \n",
       "\n",
       "   chg_nhpi_2010_2020  chg_other_2010_2020  chg_twoplus_2010_2020  \n",
       "0           55.560282            61.212283             140.050346  "
      ]
     },
     "execution_count": 60,
     "metadata": {},
     "output_type": "execute_result"
    }
   ],
   "source": [
    "seattle"
   ]
  },
  {
   "cell_type": "code",
   "execution_count": 61,
   "id": "c3d39094",
   "metadata": {},
   "outputs": [],
   "source": [
    "# anova to analyze change in racial composition for metro areas\n",
    "changes = [seattle['chg_white_2010_2020'][0], seattle['chg_black_2010_2020'][0], seattle['chg_aiak_2010_2020'][0],\n",
    "          seattle['chg_asian_2010_2020'][0], seattle['chg_nhpi_2010_2020'][0], seattle['chg_other_2010_2020'][0],\n",
    "          seattle['chg_twoplus_2010_2020'][0]]"
   ]
  },
  {
   "cell_type": "code",
   "execution_count": 62,
   "id": "6e50cab1",
   "metadata": {},
   "outputs": [
    {
     "data": {
      "text/plain": [
       "[-2.40578674821084,\n",
       " 28.5465522720051,\n",
       " 15.8504033243706,\n",
       " 57.1145711660954,\n",
       " 55.5602821794463,\n",
       " 61.2122832579393,\n",
       " 140.05034590032]"
      ]
     },
     "execution_count": 62,
     "metadata": {},
     "output_type": "execute_result"
    }
   ],
   "source": [
    "changes"
   ]
  },
  {
   "cell_type": "code",
   "execution_count": 63,
   "id": "094472e2",
   "metadata": {},
   "outputs": [],
   "source": [
    "groups = [\"White\", \"Black\", \"American Indian-Alaska Native\", \"Asian\", \"Native Hawaiian-Pacific Islander\", \"Other\", \"Two or More\"]"
   ]
  },
  {
   "cell_type": "code",
   "execution_count": 71,
   "id": "503f8508",
   "metadata": {},
   "outputs": [],
   "source": [
    "sea_data = pd.DataFrame({\n",
    "    'Group': groups,\n",
    "    'Change': changes\n",
    "})"
   ]
  },
  {
   "cell_type": "code",
   "execution_count": 69,
   "id": "052af304",
   "metadata": {},
   "outputs": [],
   "source": [
    "sea_data['Group'] = sea_data['Group'].astype('category')"
   ]
  },
  {
   "cell_type": "code",
   "execution_count": 81,
   "id": "3f50bb98",
   "metadata": {},
   "outputs": [
    {
     "data": {
      "text/plain": [
       "<function matplotlib.pyplot.show(close=None, block=None)>"
      ]
     },
     "execution_count": 81,
     "metadata": {},
     "output_type": "execute_result"
    },
    {
     "data": {
      "image/png": "[encoded data removed]",
      "text/plain": [
       "<Figure size 640x480 with 1 Axes>"
      ]
     },
     "metadata": {},
     "output_type": "display_data"
    }
   ],
   "source": [
    "test_model = ols('chg_white_2010_2020 ~ chg_black_2010_2020', data = race_pcts).fit()\n",
    "residuals = test_model.resid\n",
    "\n",
    "# near normal residuals for regressing change in white on change in Black\n",
    "plt.hist(residuals, bins=10)\n",
    "plt.title('Hist of Residuals')\n",
    "plt.show"
   ]
  },
  {
   "cell_type": "code",
   "execution_count": 82,
   "id": "7d820563",
   "metadata": {},
   "outputs": [
    {
     "data": {
      "image/png": "[encoded data removed]",
      "text/plain": [
       "<Figure size 640x480 with 1 Axes>"
      ]
     },
     "metadata": {},
     "output_type": "display_data"
    }
   ],
   "source": [
    "# QQ plot\n",
    "# pretty good...\n",
    "stats.probplot(residuals, dist='norm', plot=plt)\n",
    "plt.title('Q-Q')\n",
    "plt.show()"
   ]
  },
  {
   "cell_type": "code",
   "execution_count": 83,
   "id": "9353ec41",
   "metadata": {},
   "outputs": [
    {
     "name": "stdout",
     "output_type": "stream",
     "text": [
      "2.2077111206465815e-15\n"
     ]
    }
   ],
   "source": [
    "# shapiro test to statistically check for normality\n",
    "shapiro_test = stats.shapiro(residuals)\n",
    "print(shapiro_test.pvalue)"
   ]
  },
  {
   "cell_type": "code",
   "execution_count": 77,
   "id": "64aa5b97",
   "metadata": {},
   "outputs": [
    {
     "name": "stderr",
     "output_type": "stream",
     "text": [
      "C:\\Users\\mooki\\anaconda3\\Lib\\site-packages\\statsmodels\\regression\\linear_model.py:2013: RuntimeWarning: divide by zero encountered in divide\n",
      "  self.het_scale = (self.wresid / (1 - h))**2\n",
      "C:\\Users\\mooki\\anaconda3\\Lib\\site-packages\\statsmodels\\regression\\linear_model.py:2013: RuntimeWarning: invalid value encountered in divide\n",
      "  self.het_scale = (self.wresid / (1 - h))**2\n"
     ]
    },
    {
     "ename": "ValueError",
     "evalue": "r_matrix performs f_test for using dimensions that are asymptotically non-normal",
     "output_type": "error",
     "traceback": [
      "\u001b[1;31m---------------------------------------------------------------------------\u001b[0m",
      "\u001b[1;31mValueError\u001b[0m                                Traceback (most recent call last)",
      "Cell \u001b[1;32mIn[77], line 3\u001b[0m\n\u001b[0;32m      1\u001b[0m model \u001b[38;5;241m=\u001b[39m ols(\u001b[38;5;124m'\u001b[39m\u001b[38;5;124mChange ~ Group\u001b[39m\u001b[38;5;124m'\u001b[39m, data \u001b[38;5;241m=\u001b[39m sea_data)\u001b[38;5;241m.\u001b[39mfit(cov_type\u001b[38;5;241m=\u001b[39m\u001b[38;5;124m'\u001b[39m\u001b[38;5;124mHC3\u001b[39m\u001b[38;5;124m'\u001b[39m)\n\u001b[0;32m      2\u001b[0m \u001b[38;5;66;03m# no luck with anova... kruskal-wallis test\u001b[39;00m\n\u001b[1;32m----> 3\u001b[0m anova_table \u001b[38;5;241m=\u001b[39m sm\u001b[38;5;241m.\u001b[39mstats\u001b[38;5;241m.\u001b[39manova_lm(model, typ \u001b[38;5;241m=\u001b[39m \u001b[38;5;241m2\u001b[39m)\n",
      "File \u001b[1;32m~\\anaconda3\\Lib\\site-packages\\statsmodels\\stats\\anova.py:349\u001b[0m, in \u001b[0;36manova_lm\u001b[1;34m(*args, **kwargs)\u001b[0m\n\u001b[0;32m    347\u001b[0m \u001b[38;5;28;01mif\u001b[39;00m \u001b[38;5;28mlen\u001b[39m(args) \u001b[38;5;241m==\u001b[39m \u001b[38;5;241m1\u001b[39m:\n\u001b[0;32m    348\u001b[0m     model \u001b[38;5;241m=\u001b[39m args[\u001b[38;5;241m0\u001b[39m]\n\u001b[1;32m--> 349\u001b[0m     \u001b[38;5;28;01mreturn\u001b[39;00m anova_single(model, \u001b[38;5;241m*\u001b[39m\u001b[38;5;241m*\u001b[39mkwargs)\n\u001b[0;32m    351\u001b[0m \u001b[38;5;28;01mif\u001b[39;00m typ \u001b[38;5;129;01mnot\u001b[39;00m \u001b[38;5;129;01min\u001b[39;00m [\u001b[38;5;241m1\u001b[39m, \u001b[38;5;124m\"\u001b[39m\u001b[38;5;124mI\u001b[39m\u001b[38;5;124m\"\u001b[39m]:\n\u001b[0;32m    352\u001b[0m     \u001b[38;5;28;01mraise\u001b[39;00m \u001b[38;5;167;01mValueError\u001b[39;00m(\u001b[38;5;124m\"\u001b[39m\u001b[38;5;124mMultiple models only supported for type I. \u001b[39m\u001b[38;5;124m\"\u001b[39m\n\u001b[0;32m    353\u001b[0m                      \u001b[38;5;124m\"\u001b[39m\u001b[38;5;124mGot type \u001b[39m\u001b[38;5;132;01m%s\u001b[39;00m\u001b[38;5;124m\"\u001b[39m \u001b[38;5;241m%\u001b[39m \u001b[38;5;28mstr\u001b[39m(typ))\n",
      "File \u001b[1;32m~\\anaconda3\\Lib\\site-packages\\statsmodels\\stats\\anova.py:80\u001b[0m, in \u001b[0;36manova_single\u001b[1;34m(model, **kwargs)\u001b[0m\n\u001b[0;32m     77\u001b[0m     \u001b[38;5;28;01mreturn\u001b[39;00m anova1_lm_single(model, endog, exog, nobs, design_info, table,\n\u001b[0;32m     78\u001b[0m                             n_rows, test, pr_test, robust)\n\u001b[0;32m     79\u001b[0m \u001b[38;5;28;01melif\u001b[39;00m typ \u001b[38;5;129;01min\u001b[39;00m [\u001b[38;5;241m2\u001b[39m, \u001b[38;5;124m\"\u001b[39m\u001b[38;5;124mII\u001b[39m\u001b[38;5;124m\"\u001b[39m]:\n\u001b[1;32m---> 80\u001b[0m     \u001b[38;5;28;01mreturn\u001b[39;00m anova2_lm_single(model, design_info, n_rows, test, pr_test,\n\u001b[0;32m     81\u001b[0m                             robust)\n\u001b[0;32m     82\u001b[0m \u001b[38;5;28;01melif\u001b[39;00m typ \u001b[38;5;129;01min\u001b[39;00m [\u001b[38;5;241m3\u001b[39m, \u001b[38;5;124m\"\u001b[39m\u001b[38;5;124mIII\u001b[39m\u001b[38;5;124m\"\u001b[39m]:\n\u001b[0;32m     83\u001b[0m     \u001b[38;5;28;01mreturn\u001b[39;00m anova3_lm_single(model, design_info, n_rows, test, pr_test,\n\u001b[0;32m     84\u001b[0m                             robust)\n",
      "File \u001b[1;32m~\\anaconda3\\Lib\\site-packages\\statsmodels\\stats\\anova.py:213\u001b[0m, in \u001b[0;36manova2_lm_single\u001b[1;34m(model, design_info, n_rows, test, pr_test, robust)\u001b[0m\n\u001b[0;32m    211\u001b[0m \u001b[38;5;66;03m#from IPython.core.debugger import Pdb; Pdb().set_trace()\u001b[39;00m\n\u001b[0;32m    212\u001b[0m \u001b[38;5;28;01mif\u001b[39;00m test \u001b[38;5;241m==\u001b[39m \u001b[38;5;124m'\u001b[39m\u001b[38;5;124mF\u001b[39m\u001b[38;5;124m'\u001b[39m:\n\u001b[1;32m--> 213\u001b[0m     f \u001b[38;5;241m=\u001b[39m model\u001b[38;5;241m.\u001b[39mf_test(L12, cov_p\u001b[38;5;241m=\u001b[39mrobust_cov)\n\u001b[0;32m    214\u001b[0m     table\u001b[38;5;241m.\u001b[39mloc[table\u001b[38;5;241m.\u001b[39mindex[i], test] \u001b[38;5;241m=\u001b[39m test_value \u001b[38;5;241m=\u001b[39m f\u001b[38;5;241m.\u001b[39mfvalue\n\u001b[0;32m    215\u001b[0m     table\u001b[38;5;241m.\u001b[39mloc[table\u001b[38;5;241m.\u001b[39mindex[i], pr_test] \u001b[38;5;241m=\u001b[39m f\u001b[38;5;241m.\u001b[39mpvalue\n",
      "File \u001b[1;32m~\\anaconda3\\Lib\\site-packages\\statsmodels\\base\\model.py:1782\u001b[0m, in \u001b[0;36mLikelihoodModelResults.f_test\u001b[1;34m(self, r_matrix, cov_p, invcov)\u001b[0m\n\u001b[0;32m   1689\u001b[0m \u001b[38;5;28;01mdef\u001b[39;00m \u001b[38;5;21mf_test\u001b[39m(\u001b[38;5;28mself\u001b[39m, r_matrix, cov_p\u001b[38;5;241m=\u001b[39m\u001b[38;5;28;01mNone\u001b[39;00m, invcov\u001b[38;5;241m=\u001b[39m\u001b[38;5;28;01mNone\u001b[39;00m):\n\u001b[0;32m   1690\u001b[0m \u001b[38;5;250m    \u001b[39m\u001b[38;5;124;03m\"\"\"\u001b[39;00m\n\u001b[0;32m   1691\u001b[0m \u001b[38;5;124;03m    Compute the F-test for a joint linear hypothesis.\u001b[39;00m\n\u001b[0;32m   1692\u001b[0m \n\u001b[1;32m   (...)\u001b[0m\n\u001b[0;32m   1780\u001b[0m \u001b[38;5;124;03m    <F test: F=array([[ 144.17976065]]), p=6.322026217355609e-08, df_denom=9, df_num=3>\u001b[39;00m\n\u001b[0;32m   1781\u001b[0m \u001b[38;5;124;03m    \"\"\"\u001b[39;00m\n\u001b[1;32m-> 1782\u001b[0m     res \u001b[38;5;241m=\u001b[39m \u001b[38;5;28mself\u001b[39m\u001b[38;5;241m.\u001b[39mwald_test(r_matrix, cov_p\u001b[38;5;241m=\u001b[39mcov_p, invcov\u001b[38;5;241m=\u001b[39minvcov, use_f\u001b[38;5;241m=\u001b[39m\u001b[38;5;28;01mTrue\u001b[39;00m, scalar\u001b[38;5;241m=\u001b[39m\u001b[38;5;28;01mTrue\u001b[39;00m)\n\u001b[0;32m   1783\u001b[0m     \u001b[38;5;28;01mreturn\u001b[39;00m res\n",
      "File \u001b[1;32m~\\anaconda3\\Lib\\site-packages\\statsmodels\\base\\model.py:1882\u001b[0m, in \u001b[0;36mLikelihoodModelResults.wald_test\u001b[1;34m(self, r_matrix, cov_p, invcov, use_f, df_constraints, scalar)\u001b[0m\n\u001b[0;32m   1880\u001b[0m cov_p \u001b[38;5;241m=\u001b[39m \u001b[38;5;28mself\u001b[39m\u001b[38;5;241m.\u001b[39mcov_params(r_matrix\u001b[38;5;241m=\u001b[39mr_matrix, cov_p\u001b[38;5;241m=\u001b[39mcov_p)\n\u001b[0;32m   1881\u001b[0m \u001b[38;5;28;01mif\u001b[39;00m np\u001b[38;5;241m.\u001b[39misnan(cov_p)\u001b[38;5;241m.\u001b[39mmax():\n\u001b[1;32m-> 1882\u001b[0m     \u001b[38;5;28;01mraise\u001b[39;00m \u001b[38;5;167;01mValueError\u001b[39;00m(\u001b[38;5;124m\"\u001b[39m\u001b[38;5;124mr_matrix performs f_test for using \u001b[39m\u001b[38;5;124m\"\u001b[39m\n\u001b[0;32m   1883\u001b[0m                      \u001b[38;5;124m\"\u001b[39m\u001b[38;5;124mdimensions that are asymptotically \u001b[39m\u001b[38;5;124m\"\u001b[39m\n\u001b[0;32m   1884\u001b[0m                      \u001b[38;5;124m\"\u001b[39m\u001b[38;5;124mnon-normal\u001b[39m\u001b[38;5;124m\"\u001b[39m)\n\u001b[0;32m   1885\u001b[0m invcov \u001b[38;5;241m=\u001b[39m np\u001b[38;5;241m.\u001b[39mlinalg\u001b[38;5;241m.\u001b[39mpinv(cov_p)\n\u001b[0;32m   1886\u001b[0m J_ \u001b[38;5;241m=\u001b[39m np\u001b[38;5;241m.\u001b[39mlinalg\u001b[38;5;241m.\u001b[39mmatrix_rank(cov_p)\n",
      "\u001b[1;31mValueError\u001b[0m: r_matrix performs f_test for using dimensions that are asymptotically non-normal"
     ]
    }
   ],
   "source": [
    "model = ols('Change ~ Group', data = sea_data).fit(cov_type='HC3')\n",
    "# no luck with anova... kruskal-wallis test\n",
    "anova_table = sm.stats.anova_lm(model, typ = 2)\n",
    "\n",
    "#print(anova_table)"
   ]
  },
  {
   "cell_type": "code",
   "execution_count": 76,
   "id": "3352188c",
   "metadata": {},
   "outputs": [
    {
     "name": "stderr",
     "output_type": "stream",
     "text": [
      "C:\\Users\\mooki\\anaconda3\\Lib\\site-packages\\statsmodels\\stats\\stattools.py:74: ValueWarning: omni_normtest is not valid with less than 8 observations; 7 samples were given.\n",
      "  warn(\"omni_normtest is not valid with less than 8 observations; %i \"\n",
      "C:\\Users\\mooki\\anaconda3\\Lib\\site-packages\\statsmodels\\regression\\linear_model.py:1794: RuntimeWarning: divide by zero encountered in divide\n",
      "  return 1 - (np.divide(self.nobs - self.k_constant, self.df_resid)\n",
      "C:\\Users\\mooki\\anaconda3\\Lib\\site-packages\\statsmodels\\regression\\linear_model.py:1794: RuntimeWarning: invalid value encountered in scalar multiply\n",
      "  return 1 - (np.divide(self.nobs - self.k_constant, self.df_resid)\n",
      "C:\\Users\\mooki\\anaconda3\\Lib\\site-packages\\statsmodels\\regression\\linear_model.py:1716: RuntimeWarning: divide by zero encountered in scalar divide\n",
      "  return np.dot(wresid, wresid) / self.df_resid\n"
     ]
    },
    {
     "data": {
      "text/html": [
       "<table class=\"simpletable\">\n",
       "<caption>OLS Regression Results</caption>\n",
       "<tr>\n",
       "  <th>Dep. Variable:</th>         <td>Change</td>      <th>  R-squared:         </th> <td>   1.000</td>\n",
       "</tr>\n",
       "<tr>\n",
       "  <th>Model:</th>                   <td>OLS</td>       <th>  Adj. R-squared:    </th> <td>     nan</td>\n",
       "</tr>\n",
       "<tr>\n",
       "  <th>Method:</th>             <td>Least Squares</td>  <th>  F-statistic:       </th> <td>     nan</td>\n",
       "</tr>\n",
       "<tr>\n",
       "  <th>Date:</th>             <td>Wed, 14 Aug 2024</td> <th>  Prob (F-statistic):</th>  <td>   nan</td> \n",
       "</tr>\n",
       "<tr>\n",
       "  <th>Time:</th>                 <td>17:28:04</td>     <th>  Log-Likelihood:    </th> <td>  215.42</td>\n",
       "</tr>\n",
       "<tr>\n",
       "  <th>No. Observations:</th>      <td>     7</td>      <th>  AIC:               </th> <td>  -416.8</td>\n",
       "</tr>\n",
       "<tr>\n",
       "  <th>Df Residuals:</th>          <td>     0</td>      <th>  BIC:               </th> <td>  -417.2</td>\n",
       "</tr>\n",
       "<tr>\n",
       "  <th>Df Model:</th>              <td>     6</td>      <th>                     </th>     <td> </td>   \n",
       "</tr>\n",
       "<tr>\n",
       "  <th>Covariance Type:</th>      <td>nonrobust</td>    <th>                     </th>     <td> </td>   \n",
       "</tr>\n",
       "</table>\n",
       "<table class=\"simpletable\">\n",
       "<tr>\n",
       "                      <td></td>                         <th>coef</th>     <th>std err</th>      <th>t</th>      <th>P>|t|</th>  <th>[0.025</th>    <th>0.975]</th>  \n",
       "</tr>\n",
       "<tr>\n",
       "  <th>Intercept</th>                                 <td>   15.8504</td> <td>      inf</td> <td>        0</td> <td>   nan</td> <td>      nan</td> <td>      nan</td>\n",
       "</tr>\n",
       "<tr>\n",
       "  <th>Group[T.Asian]</th>                            <td>   41.2642</td> <td>      inf</td> <td>        0</td> <td>   nan</td> <td>      nan</td> <td>      nan</td>\n",
       "</tr>\n",
       "<tr>\n",
       "  <th>Group[T.Black]</th>                            <td>   12.6961</td> <td>      inf</td> <td>        0</td> <td>   nan</td> <td>      nan</td> <td>      nan</td>\n",
       "</tr>\n",
       "<tr>\n",
       "  <th>Group[T.Native Hawaiian-Pacific Islander]</th> <td>   39.7099</td> <td>      inf</td> <td>        0</td> <td>   nan</td> <td>      nan</td> <td>      nan</td>\n",
       "</tr>\n",
       "<tr>\n",
       "  <th>Group[T.Other]</th>                            <td>   45.3619</td> <td>      inf</td> <td>        0</td> <td>   nan</td> <td>      nan</td> <td>      nan</td>\n",
       "</tr>\n",
       "<tr>\n",
       "  <th>Group[T.Two or More]</th>                      <td>  124.1999</td> <td>      inf</td> <td>        0</td> <td>   nan</td> <td>      nan</td> <td>      nan</td>\n",
       "</tr>\n",
       "<tr>\n",
       "  <th>Group[T.White]</th>                            <td>  -18.2562</td> <td>      inf</td> <td>       -0</td> <td>   nan</td> <td>      nan</td> <td>      nan</td>\n",
       "</tr>\n",
       "</table>\n",
       "<table class=\"simpletable\">\n",
       "<tr>\n",
       "  <th>Omnibus:</th>       <td>   nan</td> <th>  Durbin-Watson:     </th> <td>   2.756</td>\n",
       "</tr>\n",
       "<tr>\n",
       "  <th>Prob(Omnibus):</th> <td>   nan</td> <th>  Jarque-Bera (JB):  </th> <td>   0.232</td>\n",
       "</tr>\n",
       "<tr>\n",
       "  <th>Skew:</th>          <td>-0.430</td> <th>  Prob(JB):          </th> <td>   0.891</td>\n",
       "</tr>\n",
       "<tr>\n",
       "  <th>Kurtosis:</th>      <td> 2.766</td> <th>  Cond. No.          </th> <td>    7.87</td>\n",
       "</tr>\n",
       "</table><br/><br/>Notes:<br/>[1] Standard Errors assume that the covariance matrix of the errors is correctly specified."
      ],
      "text/latex": [
       "\\begin{center}\n",
       "\\begin{tabular}{lclc}\n",
       "\\toprule\n",
       "\\textbf{Dep. Variable:}                            &      Change      & \\textbf{  R-squared:         } &     1.000   \\\\\n",
       "\\textbf{Model:}                                    &       OLS        & \\textbf{  Adj. R-squared:    } &       nan   \\\\\n",
       "\\textbf{Method:}                                   &  Least Squares   & \\textbf{  F-statistic:       } &       nan   \\\\\n",
       "\\textbf{Date:}                                     & Wed, 14 Aug 2024 & \\textbf{  Prob (F-statistic):} &      nan    \\\\\n",
       "\\textbf{Time:}                                     &     17:28:04     & \\textbf{  Log-Likelihood:    } &    215.42   \\\\\n",
       "\\textbf{No. Observations:}                         &           7      & \\textbf{  AIC:               } &    -416.8   \\\\\n",
       "\\textbf{Df Residuals:}                             &           0      & \\textbf{  BIC:               } &    -417.2   \\\\\n",
       "\\textbf{Df Model:}                                 &           6      & \\textbf{                     } &             \\\\\n",
       "\\textbf{Covariance Type:}                          &    nonrobust     & \\textbf{                     } &             \\\\\n",
       "\\bottomrule\n",
       "\\end{tabular}\n",
       "\\begin{tabular}{lcccccc}\n",
       "                                                   & \\textbf{coef} & \\textbf{std err} & \\textbf{t} & \\textbf{P$> |$t$|$} & \\textbf{[0.025} & \\textbf{0.975]}  \\\\\n",
       "\\midrule\n",
       "\\textbf{Intercept}                                 &      15.8504  &          inf     &         0  &           nan        &          nan    &          nan     \\\\\n",
       "\\textbf{Group[T.Asian]}                            &      41.2642  &          inf     &         0  &           nan        &          nan    &          nan     \\\\\n",
       "\\textbf{Group[T.Black]}                            &      12.6961  &          inf     &         0  &           nan        &          nan    &          nan     \\\\\n",
       "\\textbf{Group[T.Native Hawaiian-Pacific Islander]} &      39.7099  &          inf     &         0  &           nan        &          nan    &          nan     \\\\\n",
       "\\textbf{Group[T.Other]}                            &      45.3619  &          inf     &         0  &           nan        &          nan    &          nan     \\\\\n",
       "\\textbf{Group[T.Two or More]}                      &     124.1999  &          inf     &         0  &           nan        &          nan    &          nan     \\\\\n",
       "\\textbf{Group[T.White]}                            &     -18.2562  &          inf     &        -0  &           nan        &          nan    &          nan     \\\\\n",
       "\\bottomrule\n",
       "\\end{tabular}\n",
       "\\begin{tabular}{lclc}\n",
       "\\textbf{Omnibus:}       &    nan & \\textbf{  Durbin-Watson:     } &    2.756  \\\\\n",
       "\\textbf{Prob(Omnibus):} &    nan & \\textbf{  Jarque-Bera (JB):  } &    0.232  \\\\\n",
       "\\textbf{Skew:}          & -0.430 & \\textbf{  Prob(JB):          } &    0.891  \\\\\n",
       "\\textbf{Kurtosis:}      &  2.766 & \\textbf{  Cond. No.          } &     7.87  \\\\\n",
       "\\bottomrule\n",
       "\\end{tabular}\n",
       "%\\caption{OLS Regression Results}\n",
       "\\end{center}\n",
       "\n",
       "Notes: \\newline\n",
       " [1] Standard Errors assume that the covariance matrix of the errors is correctly specified."
      ],
      "text/plain": [
       "<class 'statsmodels.iolib.summary.Summary'>\n",
       "\"\"\"\n",
       "                            OLS Regression Results                            \n",
       "==============================================================================\n",
       "Dep. Variable:                 Change   R-squared:                       1.000\n",
       "Model:                            OLS   Adj. R-squared:                    nan\n",
       "Method:                 Least Squares   F-statistic:                       nan\n",
       "Date:                Wed, 14 Aug 2024   Prob (F-statistic):                nan\n",
       "Time:                        17:28:04   Log-Likelihood:                 215.42\n",
       "No. Observations:                   7   AIC:                            -416.8\n",
       "Df Residuals:                       0   BIC:                            -417.2\n",
       "Df Model:                           6                                         \n",
       "Covariance Type:            nonrobust                                         \n",
       "=============================================================================================================\n",
       "                                                coef    std err          t      P>|t|      [0.025      0.975]\n",
       "-------------------------------------------------------------------------------------------------------------\n",
       "Intercept                                    15.8504        inf          0        nan         nan         nan\n",
       "Group[T.Asian]                               41.2642        inf          0        nan         nan         nan\n",
       "Group[T.Black]                               12.6961        inf          0        nan         nan         nan\n",
       "Group[T.Native Hawaiian-Pacific Islander]    39.7099        inf          0        nan         nan         nan\n",
       "Group[T.Other]                               45.3619        inf          0        nan         nan         nan\n",
       "Group[T.Two or More]                        124.1999        inf          0        nan         nan         nan\n",
       "Group[T.White]                              -18.2562        inf         -0        nan         nan         nan\n",
       "==============================================================================\n",
       "Omnibus:                          nan   Durbin-Watson:                   2.756\n",
       "Prob(Omnibus):                    nan   Jarque-Bera (JB):                0.232\n",
       "Skew:                          -0.430   Prob(JB):                        0.891\n",
       "Kurtosis:                       2.766   Cond. No.                         7.87\n",
       "==============================================================================\n",
       "\n",
       "Notes:\n",
       "[1] Standard Errors assume that the covariance matrix of the errors is correctly specified.\n",
       "\"\"\""
      ]
     },
     "execution_count": 76,
     "metadata": {},
     "output_type": "execute_result"
    }
   ],
   "source": [
    "model.summary()"
   ]
  },
  {
   "cell_type": "code",
   "execution_count": null,
   "id": "49765109",
   "metadata": {},
   "outputs": [],
   "source": []
  }
 ],
 "metadata": {
  "kernelspec": {
   "display_name": "Python 3 (ipykernel)",
   "language": "python",
   "name": "python3"
  },
  "language_info": {
   "codemirror_mode": {
    "name": "ipython",
    "version": 3
   },
   "file_extension": ".py",
   "mimetype": "text/x-python",
   "name": "python",
   "nbconvert_exporter": "python",
   "pygments_lexer": "ipython3",
   "version": "3.11.5"
  }
 },
 "nbformat": 4,
 "nbformat_minor": 5
}
