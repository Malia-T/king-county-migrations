{
 "cells": [
  {
   "cell_type": "code",
   "execution_count": 93,
   "id": "601a3025",
   "metadata": {},
   "outputs": [],
   "source": [
    "import numpy as np\n",
    "import geopandas as gpd\n",
    "import pandas as pd\n",
    "from scipy import stats\n",
    "from scipy.stats import kruskal, pearsonr, ttest_ind\n",
    "import statsmodels.api as sm\n",
    "from statsmodels.formula.api import ols\n",
    "\n",
    "import matplotlib.pyplot as plt\n",
    "import seaborn as sns"
   ]
  },
  {
   "cell_type": "markdown",
   "id": "8534bcb6",
   "metadata": {},
   "source": [
    "# Load in Data"
   ]
  },
  {
   "cell_type": "code",
   "execution_count": 2,
   "id": "0577ef08",
   "metadata": {},
   "outputs": [],
   "source": [
    "housing = pd.read_csv('data/msa_med_housing_2011-2020.csv')"
   ]
  },
  {
   "cell_type": "code",
   "execution_count": 8,
   "id": "6d5921e8",
   "metadata": {},
   "outputs": [
    {
     "name": "stdout",
     "output_type": "stream",
     "text": [
      "<class 'pandas.core.frame.DataFrame'>\n",
      "RangeIndex: 907 entries, 0 to 906\n",
      "Data columns (total 3 columns):\n",
      " #   Column       Non-Null Count  Dtype \n",
      "---  ------       --------------  ----- \n",
      " 0   CBSAA        907 non-null    int64 \n",
      " 1   NAME_E.y     907 non-null    object\n",
      " 2   housing_chg  907 non-null    int64 \n",
      "dtypes: int64(2), object(1)\n",
      "memory usage: 21.4+ KB\n"
     ]
    }
   ],
   "source": [
    "housing.info()"
   ]
  },
  {
   "cell_type": "code",
   "execution_count": 3,
   "id": "210de044",
   "metadata": {},
   "outputs": [
    {
     "data": {
      "text/html": [
       "<div>\n",
       "<style scoped>\n",
       "    .dataframe tbody tr th:only-of-type {\n",
       "        vertical-align: middle;\n",
       "    }\n",
       "\n",
       "    .dataframe tbody tr th {\n",
       "        vertical-align: top;\n",
       "    }\n",
       "\n",
       "    .dataframe thead th {\n",
       "        text-align: right;\n",
       "    }\n",
       "</style>\n",
       "<table border=\"1\" class=\"dataframe\">\n",
       "  <thead>\n",
       "    <tr style=\"text-align: right;\">\n",
       "      <th></th>\n",
       "      <th>CBSAA</th>\n",
       "      <th>NAME_E.y</th>\n",
       "      <th>housing_chg</th>\n",
       "    </tr>\n",
       "  </thead>\n",
       "  <tbody>\n",
       "    <tr>\n",
       "      <th>0</th>\n",
       "      <td>10100</td>\n",
       "      <td>Aberdeen, SD Micro Area</td>\n",
       "      <td>26700</td>\n",
       "    </tr>\n",
       "    <tr>\n",
       "      <th>1</th>\n",
       "      <td>10140</td>\n",
       "      <td>Aberdeen, WA Micro Area</td>\n",
       "      <td>34300</td>\n",
       "    </tr>\n",
       "    <tr>\n",
       "      <th>2</th>\n",
       "      <td>10180</td>\n",
       "      <td>Abilene, TX Metro Area</td>\n",
       "      <td>30900</td>\n",
       "    </tr>\n",
       "    <tr>\n",
       "      <th>3</th>\n",
       "      <td>10220</td>\n",
       "      <td>Ada, OK Micro Area</td>\n",
       "      <td>26900</td>\n",
       "    </tr>\n",
       "    <tr>\n",
       "      <th>4</th>\n",
       "      <td>10300</td>\n",
       "      <td>Adrian, MI Micro Area</td>\n",
       "      <td>28100</td>\n",
       "    </tr>\n",
       "  </tbody>\n",
       "</table>\n",
       "</div>"
      ],
      "text/plain": [
       "   CBSAA                 NAME_E.y  housing_chg\n",
       "0  10100  Aberdeen, SD Micro Area        26700\n",
       "1  10140  Aberdeen, WA Micro Area        34300\n",
       "2  10180   Abilene, TX Metro Area        30900\n",
       "3  10220       Ada, OK Micro Area        26900\n",
       "4  10300    Adrian, MI Micro Area        28100"
      ]
     },
     "execution_count": 3,
     "metadata": {},
     "output_type": "execute_result"
    }
   ],
   "source": [
    "housing.head()"
   ]
  },
  {
   "cell_type": "code",
   "execution_count": 31,
   "id": "d1def893",
   "metadata": {},
   "outputs": [],
   "source": [
    "flows = pd.read_csv('data/sea_mig_2020.csv')"
   ]
  },
  {
   "cell_type": "code",
   "execution_count": 32,
   "id": "90e3ed5a",
   "metadata": {},
   "outputs": [
    {
     "name": "stdout",
     "output_type": "stream",
     "text": [
      "<class 'pandas.core.frame.DataFrame'>\n",
      "RangeIndex: 354 entries, 0 to 353\n",
      "Data columns (total 11 columns):\n",
      " #   Column      Non-Null Count  Dtype  \n",
      "---  ------      --------------  -----  \n",
      " 0   GEOID1      354 non-null    int64  \n",
      " 1   GEOID2      344 non-null    float64\n",
      " 2   FULL1_NAME  354 non-null    object \n",
      " 3   FULL2_NAME  354 non-null    object \n",
      " 4   variable    354 non-null    object \n",
      " 5   estimate    345 non-null    float64\n",
      " 6   moe         308 non-null    float64\n",
      " 7   centroid1   354 non-null    object \n",
      " 8   centroid2   354 non-null    object \n",
      " 9   j           354 non-null    object \n",
      " 10  k           354 non-null    object \n",
      "dtypes: float64(3), int64(1), object(7)\n",
      "memory usage: 30.6+ KB\n"
     ]
    }
   ],
   "source": [
    "flows.info()"
   ]
  },
  {
   "cell_type": "code",
   "execution_count": 33,
   "id": "7b4ad244",
   "metadata": {},
   "outputs": [],
   "source": [
    "# remove NAs\n",
    "flows = flows[flows['estimate'].notna()]"
   ]
  },
  {
   "cell_type": "code",
   "execution_count": 34,
   "id": "ad7d9c41",
   "metadata": {},
   "outputs": [
    {
     "data": {
      "text/html": [
       "<div>\n",
       "<style scoped>\n",
       "    .dataframe tbody tr th:only-of-type {\n",
       "        vertical-align: middle;\n",
       "    }\n",
       "\n",
       "    .dataframe tbody tr th {\n",
       "        vertical-align: top;\n",
       "    }\n",
       "\n",
       "    .dataframe thead th {\n",
       "        text-align: right;\n",
       "    }\n",
       "</style>\n",
       "<table border=\"1\" class=\"dataframe\">\n",
       "  <thead>\n",
       "    <tr style=\"text-align: right;\">\n",
       "      <th></th>\n",
       "      <th>GEOID1</th>\n",
       "      <th>GEOID2</th>\n",
       "      <th>FULL1_NAME</th>\n",
       "      <th>FULL2_NAME</th>\n",
       "      <th>variable</th>\n",
       "      <th>estimate</th>\n",
       "      <th>moe</th>\n",
       "      <th>centroid1</th>\n",
       "      <th>centroid2</th>\n",
       "      <th>j</th>\n",
       "      <th>k</th>\n",
       "    </tr>\n",
       "  </thead>\n",
       "  <tbody>\n",
       "    <tr>\n",
       "      <th>0</th>\n",
       "      <td>42660</td>\n",
       "      <td>NaN</td>\n",
       "      <td>Seattle-Tacoma-Bellevue, WA Metro Area</td>\n",
       "      <td>Outside Metro Area within U.S. or Puerto Rico</td>\n",
       "      <td>MOVEDOUT</td>\n",
       "      <td>25243.0</td>\n",
       "      <td>1528.0</td>\n",
       "      <td>c(-121.881387433741</td>\n",
       "      <td>47.5574033466574)</td>\n",
       "      <td>c(NA</td>\n",
       "      <td>NA)</td>\n",
       "    </tr>\n",
       "    <tr>\n",
       "      <th>10</th>\n",
       "      <td>42660</td>\n",
       "      <td>10180.0</td>\n",
       "      <td>Seattle-Tacoma-Bellevue, WA Metro Area</td>\n",
       "      <td>Abilene, TX Metro Area</td>\n",
       "      <td>MOVEDOUT</td>\n",
       "      <td>48.0</td>\n",
       "      <td>34.0</td>\n",
       "      <td>c(-121.881387433741</td>\n",
       "      <td>c(-99.717678358008</td>\n",
       "      <td>c(-99.717678358008</td>\n",
       "      <td>32.4496900313019)</td>\n",
       "    </tr>\n",
       "    <tr>\n",
       "      <th>11</th>\n",
       "      <td>42660</td>\n",
       "      <td>10380.0</td>\n",
       "      <td>Seattle-Tacoma-Bellevue, WA Metro Area</td>\n",
       "      <td>Aguadilla-Isabela, PR Metro Area</td>\n",
       "      <td>MOVEDOUT</td>\n",
       "      <td>0.0</td>\n",
       "      <td>NaN</td>\n",
       "      <td>c(-121.881387433741</td>\n",
       "      <td>c(-67.0703611537066</td>\n",
       "      <td>c(-67.0703611537066</td>\n",
       "      <td>18.3797715984677)</td>\n",
       "    </tr>\n",
       "    <tr>\n",
       "      <th>12</th>\n",
       "      <td>42660</td>\n",
       "      <td>10420.0</td>\n",
       "      <td>Seattle-Tacoma-Bellevue, WA Metro Area</td>\n",
       "      <td>Akron, OH Metro Area</td>\n",
       "      <td>MOVEDOUT</td>\n",
       "      <td>49.0</td>\n",
       "      <td>45.0</td>\n",
       "      <td>c(-121.881387433741</td>\n",
       "      <td>c(-81.3495122130132</td>\n",
       "      <td>c(-81.3495122130132</td>\n",
       "      <td>41.1487250686295)</td>\n",
       "    </tr>\n",
       "    <tr>\n",
       "      <th>13</th>\n",
       "      <td>42660</td>\n",
       "      <td>10500.0</td>\n",
       "      <td>Seattle-Tacoma-Bellevue, WA Metro Area</td>\n",
       "      <td>Albany, GA Metro Area</td>\n",
       "      <td>MOVEDOUT</td>\n",
       "      <td>0.0</td>\n",
       "      <td>NaN</td>\n",
       "      <td>c(-121.881387433741</td>\n",
       "      <td>c(-84.1738860941887</td>\n",
       "      <td>c(-84.1738860941887</td>\n",
       "      <td>31.5895065709885)</td>\n",
       "    </tr>\n",
       "  </tbody>\n",
       "</table>\n",
       "</div>"
      ],
      "text/plain": [
       "    GEOID1   GEOID2                              FULL1_NAME  \\\n",
       "0    42660      NaN  Seattle-Tacoma-Bellevue, WA Metro Area   \n",
       "10   42660  10180.0  Seattle-Tacoma-Bellevue, WA Metro Area   \n",
       "11   42660  10380.0  Seattle-Tacoma-Bellevue, WA Metro Area   \n",
       "12   42660  10420.0  Seattle-Tacoma-Bellevue, WA Metro Area   \n",
       "13   42660  10500.0  Seattle-Tacoma-Bellevue, WA Metro Area   \n",
       "\n",
       "                                       FULL2_NAME  variable  estimate     moe  \\\n",
       "0   Outside Metro Area within U.S. or Puerto Rico  MOVEDOUT   25243.0  1528.0   \n",
       "10                         Abilene, TX Metro Area  MOVEDOUT      48.0    34.0   \n",
       "11               Aguadilla-Isabela, PR Metro Area  MOVEDOUT       0.0     NaN   \n",
       "12                           Akron, OH Metro Area  MOVEDOUT      49.0    45.0   \n",
       "13                          Albany, GA Metro Area  MOVEDOUT       0.0     NaN   \n",
       "\n",
       "              centroid1            centroid2                    j  \\\n",
       "0   c(-121.881387433741    47.5574033466574)                 c(NA   \n",
       "10  c(-121.881387433741   c(-99.717678358008   c(-99.717678358008   \n",
       "11  c(-121.881387433741  c(-67.0703611537066  c(-67.0703611537066   \n",
       "12  c(-121.881387433741  c(-81.3495122130132  c(-81.3495122130132   \n",
       "13  c(-121.881387433741  c(-84.1738860941887  c(-84.1738860941887   \n",
       "\n",
       "                     k  \n",
       "0                  NA)  \n",
       "10   32.4496900313019)  \n",
       "11   18.3797715984677)  \n",
       "12   41.1487250686295)  \n",
       "13   31.5895065709885)  "
      ]
     },
     "execution_count": 34,
     "metadata": {},
     "output_type": "execute_result"
    }
   ],
   "source": [
    "flows.head()"
   ]
  },
  {
   "cell_type": "code",
   "execution_count": 105,
   "id": "3af20451",
   "metadata": {},
   "outputs": [],
   "source": [
    "race = pd.read_csv('data/race_2010-2020.csv')"
   ]
  },
  {
   "cell_type": "code",
   "execution_count": 106,
   "id": "7b69dd2b",
   "metadata": {},
   "outputs": [
    {
     "name": "stdout",
     "output_type": "stream",
     "text": [
      "<class 'pandas.core.frame.DataFrame'>\n",
      "RangeIndex: 366 entries, 0 to 365\n",
      "Data columns (total 9 columns):\n",
      " #   Column                 Non-Null Count  Dtype  \n",
      "---  ------                 --------------  -----  \n",
      " 0   GISJOIN                366 non-null    object \n",
      " 1   CBSA                   366 non-null    object \n",
      " 2   chg_white_2010_2020    366 non-null    float64\n",
      " 3   chg_black_2010_2020    366 non-null    float64\n",
      " 4   chg_aiak_2010_2020     366 non-null    float64\n",
      " 5   chg_asian_2010_2020    366 non-null    float64\n",
      " 6   chg_nhpi_2010_2020     366 non-null    float64\n",
      " 7   chg_other_2010_2020    366 non-null    float64\n",
      " 8   chg_twoplus_2010_2020  366 non-null    float64\n",
      "dtypes: float64(7), object(2)\n",
      "memory usage: 25.9+ KB\n"
     ]
    }
   ],
   "source": [
    "race.info()"
   ]
  },
  {
   "cell_type": "code",
   "execution_count": 107,
   "id": "01903633",
   "metadata": {},
   "outputs": [
    {
     "data": {
      "text/html": [
       "<div>\n",
       "<style scoped>\n",
       "    .dataframe tbody tr th:only-of-type {\n",
       "        vertical-align: middle;\n",
       "    }\n",
       "\n",
       "    .dataframe tbody tr th {\n",
       "        vertical-align: top;\n",
       "    }\n",
       "\n",
       "    .dataframe thead th {\n",
       "        text-align: right;\n",
       "    }\n",
       "</style>\n",
       "<table border=\"1\" class=\"dataframe\">\n",
       "  <thead>\n",
       "    <tr style=\"text-align: right;\">\n",
       "      <th></th>\n",
       "      <th>GISJOIN</th>\n",
       "      <th>CBSA</th>\n",
       "      <th>chg_white_2010_2020</th>\n",
       "      <th>chg_black_2010_2020</th>\n",
       "      <th>chg_aiak_2010_2020</th>\n",
       "      <th>chg_asian_2010_2020</th>\n",
       "      <th>chg_nhpi_2010_2020</th>\n",
       "      <th>chg_other_2010_2020</th>\n",
       "      <th>chg_twoplus_2010_2020</th>\n",
       "    </tr>\n",
       "  </thead>\n",
       "  <tbody>\n",
       "    <tr>\n",
       "      <th>0</th>\n",
       "      <td>G10180</td>\n",
       "      <td>Abilene, TX Metro Area</td>\n",
       "      <td>-7227.00</td>\n",
       "      <td>1744.0</td>\n",
       "      <td>378.00</td>\n",
       "      <td>882.0</td>\n",
       "      <td>71.0</td>\n",
       "      <td>720.00</td>\n",
       "      <td>14759.00</td>\n",
       "    </tr>\n",
       "    <tr>\n",
       "      <th>1</th>\n",
       "      <td>G10420</td>\n",
       "      <td>Akron, OH Metro Area</td>\n",
       "      <td>-44830.06</td>\n",
       "      <td>2956.0</td>\n",
       "      <td>16.00</td>\n",
       "      <td>11856.0</td>\n",
       "      <td>33.0</td>\n",
       "      <td>3644.00</td>\n",
       "      <td>25339.00</td>\n",
       "    </tr>\n",
       "    <tr>\n",
       "      <th>2</th>\n",
       "      <td>G10500</td>\n",
       "      <td>Albany, GA Metro Area</td>\n",
       "      <td>-6800.00</td>\n",
       "      <td>-2698.0</td>\n",
       "      <td>-50.00</td>\n",
       "      <td>214.0</td>\n",
       "      <td>-93.0</td>\n",
       "      <td>727.00</td>\n",
       "      <td>3190.00</td>\n",
       "    </tr>\n",
       "    <tr>\n",
       "      <th>3</th>\n",
       "      <td>G10580</td>\n",
       "      <td>Albany-Schenectady-Troy, NY Metro Area</td>\n",
       "      <td>-55989.00</td>\n",
       "      <td>10391.0</td>\n",
       "      <td>860.00</td>\n",
       "      <td>19116.0</td>\n",
       "      <td>137.0</td>\n",
       "      <td>10079.00</td>\n",
       "      <td>43952.00</td>\n",
       "    </tr>\n",
       "    <tr>\n",
       "      <th>4</th>\n",
       "      <td>G10740</td>\n",
       "      <td>Albuquerque, NM Metro Area</td>\n",
       "      <td>-133717.88</td>\n",
       "      <td>2035.0</td>\n",
       "      <td>8164.01</td>\n",
       "      <td>5374.0</td>\n",
       "      <td>201.0</td>\n",
       "      <td>-3535.04</td>\n",
       "      <td>150928.83</td>\n",
       "    </tr>\n",
       "  </tbody>\n",
       "</table>\n",
       "</div>"
      ],
      "text/plain": [
       "  GISJOIN                                    CBSA  chg_white_2010_2020  \\\n",
       "0  G10180                  Abilene, TX Metro Area             -7227.00   \n",
       "1  G10420                    Akron, OH Metro Area            -44830.06   \n",
       "2  G10500                   Albany, GA Metro Area             -6800.00   \n",
       "3  G10580  Albany-Schenectady-Troy, NY Metro Area            -55989.00   \n",
       "4  G10740              Albuquerque, NM Metro Area           -133717.88   \n",
       "\n",
       "   chg_black_2010_2020  chg_aiak_2010_2020  chg_asian_2010_2020  \\\n",
       "0               1744.0              378.00                882.0   \n",
       "1               2956.0               16.00              11856.0   \n",
       "2              -2698.0              -50.00                214.0   \n",
       "3              10391.0              860.00              19116.0   \n",
       "4               2035.0             8164.01               5374.0   \n",
       "\n",
       "   chg_nhpi_2010_2020  chg_other_2010_2020  chg_twoplus_2010_2020  \n",
       "0                71.0               720.00               14759.00  \n",
       "1                33.0              3644.00               25339.00  \n",
       "2               -93.0               727.00                3190.00  \n",
       "3               137.0             10079.00               43952.00  \n",
       "4               201.0             -3535.04              150928.83  "
      ]
     },
     "execution_count": 107,
     "metadata": {},
     "output_type": "execute_result"
    }
   ],
   "source": [
    "race.head()"
   ]
  },
  {
   "cell_type": "code",
   "execution_count": 46,
   "id": "7974df19",
   "metadata": {},
   "outputs": [],
   "source": [
    "race_pcts = pd.read_csv('data/race_2010-2020_pcts.csv')"
   ]
  },
  {
   "cell_type": "code",
   "execution_count": 47,
   "id": "44f8277e",
   "metadata": {
    "scrolled": true
   },
   "outputs": [
    {
     "data": {
      "text/html": [
       "<div>\n",
       "<style scoped>\n",
       "    .dataframe tbody tr th:only-of-type {\n",
       "        vertical-align: middle;\n",
       "    }\n",
       "\n",
       "    .dataframe tbody tr th {\n",
       "        vertical-align: top;\n",
       "    }\n",
       "\n",
       "    .dataframe thead th {\n",
       "        text-align: right;\n",
       "    }\n",
       "</style>\n",
       "<table border=\"1\" class=\"dataframe\">\n",
       "  <thead>\n",
       "    <tr style=\"text-align: right;\">\n",
       "      <th></th>\n",
       "      <th>GISJOIN</th>\n",
       "      <th>CBSA</th>\n",
       "      <th>chg_white_2010_2020</th>\n",
       "      <th>chg_black_2010_2020</th>\n",
       "      <th>chg_aiak_2010_2020</th>\n",
       "      <th>chg_asian_2010_2020</th>\n",
       "      <th>chg_nhpi_2010_2020</th>\n",
       "      <th>chg_other_2010_2020</th>\n",
       "      <th>chg_twoplus_2010_2020</th>\n",
       "    </tr>\n",
       "  </thead>\n",
       "  <tbody>\n",
       "    <tr>\n",
       "      <th>0</th>\n",
       "      <td>G10180</td>\n",
       "      <td>Abilene, TX Metro Area</td>\n",
       "      <td>-5.495483</td>\n",
       "      <td>14.313854</td>\n",
       "      <td>34.870849</td>\n",
       "      <td>39.927569</td>\n",
       "      <td>53.787879</td>\n",
       "      <td>5.426590</td>\n",
       "      <td>303.246353</td>\n",
       "    </tr>\n",
       "    <tr>\n",
       "      <th>1</th>\n",
       "      <td>G10420</td>\n",
       "      <td>Akron, OH Metro Area</td>\n",
       "      <td>-7.657721</td>\n",
       "      <td>3.485561</td>\n",
       "      <td>1.220442</td>\n",
       "      <td>83.551797</td>\n",
       "      <td>19.075145</td>\n",
       "      <td>120.862355</td>\n",
       "      <td>177.431552</td>\n",
       "    </tr>\n",
       "    <tr>\n",
       "      <th>2</th>\n",
       "      <td>G10500</td>\n",
       "      <td>Albany, GA Metro Area</td>\n",
       "      <td>-9.705551</td>\n",
       "      <td>-3.289081</td>\n",
       "      <td>-13.586957</td>\n",
       "      <td>14.449696</td>\n",
       "      <td>-62.837838</td>\n",
       "      <td>53.931751</td>\n",
       "      <td>170.497060</td>\n",
       "    </tr>\n",
       "    <tr>\n",
       "      <th>3</th>\n",
       "      <td>G10580</td>\n",
       "      <td>Albany-Schenectady-Troy, NY Metro Area</td>\n",
       "      <td>-7.574310</td>\n",
       "      <td>15.425840</td>\n",
       "      <td>41.505792</td>\n",
       "      <td>70.300088</td>\n",
       "      <td>47.735192</td>\n",
       "      <td>76.205958</td>\n",
       "      <td>205.556075</td>\n",
       "    </tr>\n",
       "    <tr>\n",
       "      <th>4</th>\n",
       "      <td>G10740</td>\n",
       "      <td>Albuquerque, NM Metro Area</td>\n",
       "      <td>-21.650195</td>\n",
       "      <td>8.571308</td>\n",
       "      <td>15.703945</td>\n",
       "      <td>29.982147</td>\n",
       "      <td>21.682848</td>\n",
       "      <td>-2.588502</td>\n",
       "      <td>394.059763</td>\n",
       "    </tr>\n",
       "  </tbody>\n",
       "</table>\n",
       "</div>"
      ],
      "text/plain": [
       "  GISJOIN                                    CBSA  chg_white_2010_2020  \\\n",
       "0  G10180                  Abilene, TX Metro Area            -5.495483   \n",
       "1  G10420                    Akron, OH Metro Area            -7.657721   \n",
       "2  G10500                   Albany, GA Metro Area            -9.705551   \n",
       "3  G10580  Albany-Schenectady-Troy, NY Metro Area            -7.574310   \n",
       "4  G10740              Albuquerque, NM Metro Area           -21.650195   \n",
       "\n",
       "   chg_black_2010_2020  chg_aiak_2010_2020  chg_asian_2010_2020  \\\n",
       "0            14.313854           34.870849            39.927569   \n",
       "1             3.485561            1.220442            83.551797   \n",
       "2            -3.289081          -13.586957            14.449696   \n",
       "3            15.425840           41.505792            70.300088   \n",
       "4             8.571308           15.703945            29.982147   \n",
       "\n",
       "   chg_nhpi_2010_2020  chg_other_2010_2020  chg_twoplus_2010_2020  \n",
       "0           53.787879             5.426590             303.246353  \n",
       "1           19.075145           120.862355             177.431552  \n",
       "2          -62.837838            53.931751             170.497060  \n",
       "3           47.735192            76.205958             205.556075  \n",
       "4           21.682848            -2.588502             394.059763  "
      ]
     },
     "execution_count": 47,
     "metadata": {},
     "output_type": "execute_result"
    }
   ],
   "source": [
    "race_pcts.head()"
   ]
  },
  {
   "cell_type": "markdown",
   "id": "29b4fc70",
   "metadata": {},
   "source": [
    "# Basic Plotting"
   ]
  },
  {
   "cell_type": "code",
   "execution_count": null,
   "id": "f3af5bb3",
   "metadata": {},
   "outputs": [],
   "source": [
    "plt.plot()"
   ]
  },
  {
   "cell_type": "code",
   "execution_count": 37,
   "id": "5b609b00",
   "metadata": {},
   "outputs": [
    {
     "data": {
      "text/plain": [
       "DescribeResult(nobs=345, minmax=(0.0, 25243.0), mean=456.71014492753625, variance=2753845.8343444555, skewness=10.665841656628476, kurtosis=145.59969358746895)"
      ]
     },
     "execution_count": 37,
     "metadata": {},
     "output_type": "execute_result"
    }
   ],
   "source": [
    "stats.describe(np.array(flows['estimate']))"
   ]
  },
  {
   "cell_type": "markdown",
   "id": "6acd2e8f",
   "metadata": {},
   "source": [
    "# Basic Stats"
   ]
  },
  {
   "cell_type": "markdown",
   "id": "06705dd7",
   "metadata": {},
   "source": [
    "## Race Data"
   ]
  },
  {
   "cell_type": "markdown",
   "id": "e8cc1a94",
   "metadata": {},
   "source": [
    "### Raw"
   ]
  },
  {
   "cell_type": "code",
   "execution_count": 108,
   "id": "da360db3",
   "metadata": {},
   "outputs": [],
   "source": [
    "chg_white = race['chg_white_2010_2020']\n",
    "chg_black = race['chg_black_2010_2020']\n",
    "chg_aiak = race['chg_aiak_2010_2020']\n",
    "chg_asian = race['chg_asian_2010_2020']\n",
    "chg_other = race['chg_other_2010_2020']\n",
    "chg_twoplus = race['chg_twoplus_2010_2020']"
   ]
  },
  {
   "cell_type": "code",
   "execution_count": 109,
   "id": "a6aa56e7",
   "metadata": {},
   "outputs": [
    {
     "data": {
      "text/plain": [
       "<function matplotlib.pyplot.show(close=None, block=None)>"
      ]
     },
     "execution_count": 109,
     "metadata": {},
     "output_type": "execute_result"
    },
    {
     "data": {
      "image/png": "[encoded data removed]",
      "text/plain": [
       "<Figure size 640x480 with 1 Axes>"
      ]
     },
     "metadata": {},
     "output_type": "display_data"
    }
   ],
   "source": [
    "test_model = ols('chg_white_2010_2020 ~ chg_black_2010_2020', data = race).fit()\n",
    "residuals = test_model.resid\n",
    "\n",
    "# not normal for regressing change in white on change in Black\n",
    "plt.hist(residuals, bins=10)\n",
    "plt.title('Hist of Residuals')\n",
    "plt.show"
   ]
  },
  {
   "cell_type": "markdown",
   "id": "12ada211",
   "metadata": {},
   "source": [
    "### Percentages"
   ]
  },
  {
   "cell_type": "code",
   "execution_count": 59,
   "id": "5c000e12",
   "metadata": {},
   "outputs": [],
   "source": [
    "seattle = race_pcts[race_pcts['CBSA'] == 'Seattle-Tacoma-Bellevue, WA Metro Area'].reset_index()"
   ]
  },
  {
   "cell_type": "code",
   "execution_count": 60,
   "id": "14a0a80c",
   "metadata": {},
   "outputs": [
    {
     "data": {
      "text/html": [
       "<div>\n",
       "<style scoped>\n",
       "    .dataframe tbody tr th:only-of-type {\n",
       "        vertical-align: middle;\n",
       "    }\n",
       "\n",
       "    .dataframe tbody tr th {\n",
       "        vertical-align: top;\n",
       "    }\n",
       "\n",
       "    .dataframe thead th {\n",
       "        text-align: right;\n",
       "    }\n",
       "</style>\n",
       "<table border=\"1\" class=\"dataframe\">\n",
       "  <thead>\n",
       "    <tr style=\"text-align: right;\">\n",
       "      <th></th>\n",
       "      <th>index</th>\n",
       "      <th>GISJOIN</th>\n",
       "      <th>CBSA</th>\n",
       "      <th>chg_white_2010_2020</th>\n",
       "      <th>chg_black_2010_2020</th>\n",
       "      <th>chg_aiak_2010_2020</th>\n",
       "      <th>chg_asian_2010_2020</th>\n",
       "      <th>chg_nhpi_2010_2020</th>\n",
       "      <th>chg_other_2010_2020</th>\n",
       "      <th>chg_twoplus_2010_2020</th>\n",
       "    </tr>\n",
       "  </thead>\n",
       "  <tbody>\n",
       "    <tr>\n",
       "      <th>0</th>\n",
       "      <td>310</td>\n",
       "      <td>G42660</td>\n",
       "      <td>Seattle-Tacoma-Bellevue, WA Metro Area</td>\n",
       "      <td>-2.405787</td>\n",
       "      <td>28.546552</td>\n",
       "      <td>15.850403</td>\n",
       "      <td>57.114571</td>\n",
       "      <td>55.560282</td>\n",
       "      <td>61.212283</td>\n",
       "      <td>140.050346</td>\n",
       "    </tr>\n",
       "  </tbody>\n",
       "</table>\n",
       "</div>"
      ],
      "text/plain": [
       "   index GISJOIN                                    CBSA  chg_white_2010_2020  \\\n",
       "0    310  G42660  Seattle-Tacoma-Bellevue, WA Metro Area            -2.405787   \n",
       "\n",
       "   chg_black_2010_2020  chg_aiak_2010_2020  chg_asian_2010_2020  \\\n",
       "0            28.546552           15.850403            57.114571   \n",
       "\n",
       "   chg_nhpi_2010_2020  chg_other_2010_2020  chg_twoplus_2010_2020  \n",
       "0           55.560282            61.212283             140.050346  "
      ]
     },
     "execution_count": 60,
     "metadata": {},
     "output_type": "execute_result"
    }
   ],
   "source": [
    "seattle"
   ]
  },
  {
   "cell_type": "code",
   "execution_count": 61,
   "id": "63fc0d43",
   "metadata": {},
   "outputs": [],
   "source": [
    "# anova to analyze change in racial composition for metro areas\n",
    "changes = [seattle['chg_white_2010_2020'][0], seattle['chg_black_2010_2020'][0], seattle['chg_aiak_2010_2020'][0],\n",
    "          seattle['chg_asian_2010_2020'][0], seattle['chg_nhpi_2010_2020'][0], seattle['chg_other_2010_2020'][0],\n",
    "          seattle['chg_twoplus_2010_2020'][0]]"
   ]
  },
  {
   "cell_type": "code",
   "execution_count": 62,
   "id": "1a755a9b",
   "metadata": {},
   "outputs": [
    {
     "data": {
      "text/plain": [
       "[-2.40578674821084,\n",
       " 28.5465522720051,\n",
       " 15.8504033243706,\n",
       " 57.1145711660954,\n",
       " 55.5602821794463,\n",
       " 61.2122832579393,\n",
       " 140.05034590032]"
      ]
     },
     "execution_count": 62,
     "metadata": {},
     "output_type": "execute_result"
    }
   ],
   "source": [
    "changes"
   ]
  },
  {
   "cell_type": "code",
   "execution_count": 63,
   "id": "c552e2af",
   "metadata": {},
   "outputs": [],
   "source": [
    "groups = [\"White\", \"Black\", \"American Indian-Alaska Native\", \"Asian\", \"Native Hawaiian-Pacific Islander\", \"Other\", \"Two or More\"]"
   ]
  },
  {
   "cell_type": "code",
   "execution_count": 71,
   "id": "9e64f29f",
   "metadata": {},
   "outputs": [],
   "source": [
    "sea_data = pd.DataFrame({\n",
    "    'Group': groups,\n",
    "    'Change': changes\n",
    "})"
   ]
  },
  {
   "cell_type": "code",
   "execution_count": 69,
   "id": "04ce5255",
   "metadata": {},
   "outputs": [],
   "source": [
    "sea_data['Group'] = sea_data['Group'].astype('category')"
   ]
  },
  {
   "cell_type": "code",
   "execution_count": 81,
   "id": "08c6660f",
   "metadata": {},
   "outputs": [
    {
     "data": {
      "text/plain": [
       "<function matplotlib.pyplot.show(close=None, block=None)>"
      ]
     },
     "execution_count": 81,
     "metadata": {},
     "output_type": "execute_result"
    },
    {
     "data": {
      "image/png": "[encoded data removed]",
      "text/plain": [
       "<Figure size 640x480 with 1 Axes>"
      ]
     },
     "metadata": {},
     "output_type": "display_data"
    }
   ],
   "source": [
    "test_model = ols('chg_white_2010_2020 ~ chg_black_2010_2020', data = race_pcts).fit()\n",
    "residuals = test_model.resid\n",
    "\n",
    "# near normal residuals for regressing change in white on change in Black\n",
    "plt.hist(residuals, bins=10)\n",
    "plt.title('Hist of Residuals')\n",
    "plt.show"
   ]
  },
  {
   "cell_type": "code",
   "execution_count": 82,
   "id": "884dbca7",
   "metadata": {},
   "outputs": [
    {
     "data": {
      "image/png": "[encoded data removed]",
      "text/plain": [
       "<Figure size 640x480 with 1 Axes>"
      ]
     },
     "metadata": {},
     "output_type": "display_data"
    }
   ],
   "source": [
    "# QQ plot\n",
    "# pretty good...\n",
    "stats.probplot(residuals, dist='norm', plot=plt)\n",
    "plt.title('Q-Q')\n",
    "plt.show()"
   ]
  },
  {
   "cell_type": "code",
   "execution_count": 83,
   "id": "57da0db8",
   "metadata": {},
   "outputs": [
    {
     "name": "stdout",
     "output_type": "stream",
     "text": [
      "2.2077111206465815e-15\n"
     ]
    }
   ],
   "source": [
    "# shapiro test to statistically check for normality\n",
    "shapiro_test = stats.shapiro(residuals)\n",
    "print(shapiro_test.pvalue)"
   ]
  },
  {
   "cell_type": "code",
   "execution_count": 94,
   "id": "1df0384f",
   "metadata": {},
   "outputs": [
    {
     "data": {
      "text/plain": [
       "2.9810688948037424e-09"
      ]
     },
     "execution_count": 94,
     "metadata": {},
     "output_type": "execute_result"
    }
   ],
   "source": [
    "# significant difference in variances...\n",
    "chg_white = race_pcts['chg_white_2010_2020']\n",
    "chg_black = race_pcts['chg_black_2010_2020']\n",
    "chg_aiak = race_pcts['chg_aiak_2010_2020']\n",
    "chg_asian = race_pcts['chg_asian_2010_2020']\n",
    "chg_other = race_pcts['chg_other_2010_2020']\n",
    "chg_twoplus = race_pcts['chg_twoplus_2010_2020']\n",
    "\n",
    "# levene test to check equal variance\n",
    "res = stats.levene(chg_white, chg_black)\n",
    "res.pvalue"
   ]
  },
  {
   "cell_type": "code",
   "execution_count": 89,
   "id": "5b548076",
   "metadata": {},
   "outputs": [
    {
     "name": "stdout",
     "output_type": "stream",
     "text": [
      "PearsonRResult(statistic=0.3157788985218049, pvalue=6.436220420850656e-10)\n"
     ]
    }
   ],
   "source": [
    "# positively associated, statistically significant\n",
    "print(pearsonr(chg_white, chg_black))"
   ]
  },
  {
   "cell_type": "code",
   "execution_count": 95,
   "id": "9a74ad1c",
   "metadata": {},
   "outputs": [
    {
     "name": "stdout",
     "output_type": "stream",
     "text": [
      "TtestResult(statistic=-12.253867467564197, pvalue=1.583582406997581e-31, df=730.0)\n"
     ]
    }
   ],
   "source": [
    "# statistically significant difference between change in white and change in black pops\n",
    "print(ttest_ind(chg_white, chg_black))"
   ]
  },
  {
   "cell_type": "code",
   "execution_count": 100,
   "id": "87f6253c",
   "metadata": {},
   "outputs": [
    {
     "data": {
      "text/plain": [
       "[Text(1, 0, 'White'), Text(2, 0, 'Black')]"
      ]
     },
     "execution_count": 100,
     "metadata": {},
     "output_type": "execute_result"
    },
    {
     "data": {
      "image/png": "[encoded data removed]",
      "text/plain": [
       "<Figure size 640x480 with 1 Axes>"
      ]
     },
     "metadata": {},
     "output_type": "display_data"
    }
   ],
   "source": [
    "wb_dict = {'White': chg_white, 'Black': chg_black}\n",
    "\n",
    "fig, ax = plt.subplots()\n",
    "ax.boxplot(wb_dict.values())\n",
    "ax.set_xticklabels(wb_dict.keys())"
   ]
  },
  {
   "cell_type": "code",
   "execution_count": 90,
   "id": "12f0bd40",
   "metadata": {},
   "outputs": [
    {
     "data": {
      "image/png": "[encoded data removed]",
      "text/plain": [
       "<Figure size 640x480 with 1 Axes>"
      ]
     },
     "metadata": {},
     "output_type": "display_data"
    }
   ],
   "source": [
    "# we have some outliers...\n",
    "sns.regplot(x=chg_white, y=chg_black)\n",
    "plt.xlabel('Change in White Population (%)')\n",
    "plt.ylabel('Change in Black Population (%)')\n",
    "plt.show()"
   ]
  },
  {
   "cell_type": "code",
   "execution_count": 91,
   "id": "982b4462",
   "metadata": {},
   "outputs": [],
   "source": [
    "#model = ols('Change ~ Group', data = sea_data).fit(cov_type='HC3')\n",
    "# no luck with anova... kruskal-wallis test\n",
    "#anova_table = sm.stats.anova_lm(model, typ = 2)\n",
    "\n",
    "#print(anova_table)"
   ]
  },
  {
   "cell_type": "code",
   "execution_count": null,
   "id": "532be51b",
   "metadata": {},
   "outputs": [],
   "source": []
  },
  {
   "cell_type": "code",
   "execution_count": null,
   "id": "0dcbe7a0",
   "metadata": {},
   "outputs": [],
   "source": []
  }
 ],
 "metadata": {
  "kernelspec": {
   "display_name": "Python 3 (ipykernel)",
   "language": "python",
   "name": "python3"
  },
  "language_info": {
   "codemirror_mode": {
    "name": "ipython",
    "version": 3
   },
   "file_extension": ".py",
   "mimetype": "text/x-python",
   "name": "python",
   "nbconvert_exporter": "python",
   "pygments_lexer": "ipython3",
   "version": "3.11.5"
  }
 },
 "nbformat": 4,
 "nbformat_minor": 5
}
